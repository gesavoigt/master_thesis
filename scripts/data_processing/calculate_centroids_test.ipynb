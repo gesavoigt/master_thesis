{
 "cells": [
  {
   "cell_type": "code",
   "execution_count": null,
   "metadata": {},
   "outputs": [],
   "source": [
    "# Get indexes of nonzero elements\n",
    "nonzero = np.array(np.nonzero(mask)).T\n",
    "\n",
    "# Get cell identities of nonzero matrix\n",
    "identities = np.array(list(map(lambda x: mask[x[0]][x[1]], nonzero)))\n",
    "\n",
    "# Stack identities with the nonzero matrix\n",
    "stacked = np.column_stack((identities, nonzero))\n",
    "\n",
    "# sort them by identity\n",
    "stacked = stacked[stacked[:, 0].argsort()]\n",
    "\n",
    "# Group them by identity\n",
    "grouped = np.split(stacked[:, 1:], np.unique(stacked[:, 0], return_index=True)[1][1:])\n",
    "\n",
    "# Get the bounding boxes for each identity\n",
    "bboxes = np.array(list(map(lambda x: np.array([min(x[:, 0]), max(x[:, 0]), min(x[:, 1]), max(x[:, 1])]),\n",
    "                            np.array(grouped, dtype=object))))\n",
    "\n",
    "# Since the bounding boxes are calculated from the group identities we can add column with the identities\n",
    "bboxes = np.column_stack((np.unique(stacked[:, 0]), bboxes))"
   ]
  }
 ],
 "metadata": {
  "kernelspec": {
   "display_name": "napari",
   "language": "python",
   "name": "napari"
  },
  "language_info": {
   "name": "python",
   "version": "3.12.3"
  }
 },
 "nbformat": 4,
 "nbformat_minor": 2
}
